{
 "cells": [
  {
   "cell_type": "markdown",
   "metadata": {},
   "source": [
    "### 1. Assigning elements to different lists"
   ]
  },
  {
   "cell_type": "markdown",
   "metadata": {},
   "source": [
    " There are three different methods to do this.\n",
    " * append()\n",
    " * insert()\n",
    " * extend()"
   ]
  },
  {
   "cell_type": "code",
   "execution_count": 1,
   "metadata": {},
   "outputs": [
    {
     "name": "stdout",
     "output_type": "stream",
     "text": [
      "Enter size of list : 3\n",
      "Enter element :1\n",
      "Enter element :2\n",
      "Enter element :3\n",
      "[1, 2, 3]\n"
     ]
    }
   ],
   "source": [
    "# illustrating append() method\n",
    "#The append() method adds an item at the end of the list1\n",
    "\n",
    "list1=[]  # empty list\n",
    "x=int(input(\"Enter size of list : \"))\n",
    "for i in range(x):\n",
    "    s=int(input(\"Enter element :\"))  # taking input\n",
    "    list1.append(s) # appending it to list. It append the new value at the last position in list\n",
    "print(list1)"
   ]
  },
  {
   "cell_type": "code",
   "execution_count": 2,
   "metadata": {},
   "outputs": [
    {
     "data": {
      "text/plain": [
       "[1, 'one', 2, 3]"
      ]
     },
     "execution_count": 2,
     "metadata": {},
     "output_type": "execute_result"
    }
   ],
   "source": [
    "# illustrating insert() method\n",
    "# The insert() method places an element at a specific position indicated by the index number.\n",
    "\n",
    "list1.insert(1,'one')  # --> 1st param is position and 2nd param is its value\n",
    "list1"
   ]
  },
  {
   "cell_type": "code",
   "execution_count": 4,
   "metadata": {},
   "outputs": [
    {
     "data": {
      "text/plain": [
       "[1, 'one', 2, 3, 'four', 5, 'six']"
      ]
     },
     "execution_count": 4,
     "metadata": {},
     "output_type": "execute_result"
    }
   ],
   "source": [
    "# illustrating extend() method\n",
    "# The extend() method adds a sequence of values to the end of a list\n",
    "\n",
    "list1.extend([\"four\",5,'six']) # --> Add these sequence of elements at the end of the list.\n",
    "list1"
   ]
  },
  {
   "cell_type": "markdown",
   "metadata": {},
   "source": [
    "### 2. Accessing elements from a tuple"
   ]
  },
  {
   "cell_type": "markdown",
   "metadata": {},
   "source": [
    "There are various ways in which we can access the elements of a tuple.\n",
    "* indexing\n",
    "* Negative indexing \n",
    "* slicing"
   ]
  },
  {
   "cell_type": "code",
   "execution_count": 12,
   "metadata": {},
   "outputs": [
    {
     "name": "stdout",
     "output_type": "stream",
     "text": [
      "o\n",
      "t\n"
     ]
    }
   ],
   "source": [
    "# illustrating indexing\n",
    "# We can use the index operator [] to access an item in a tuple, where the index starts from 0.\n",
    "\n",
    "tup=('r','o','b','o','t','i','c','s')\n",
    "print(tup[1])\n",
    "print(tup[4])"
   ]
  },
  {
   "cell_type": "code",
   "execution_count": 13,
   "metadata": {},
   "outputs": [
    {
     "name": "stdout",
     "output_type": "stream",
     "text": [
      "s\n",
      "o\n"
     ]
    }
   ],
   "source": [
    "# illustrating negative indexing\n",
    "# Python allows negative indexing for its sequences.\n",
    "# The index of -1 refers to the last item, -2 to the second last item and so on.\n",
    "print(tup[-1])\n",
    "print(tup[-5])"
   ]
  },
  {
   "cell_type": "code",
   "execution_count": 17,
   "metadata": {},
   "outputs": [
    {
     "name": "stdout",
     "output_type": "stream",
     "text": [
      "('o', 'b', 'o', 't')\n",
      "('r', 'o', 'b', 'o', 't', 'i', 'c', 's')\n",
      "('o', 't', 'i', 'c')\n"
     ]
    }
   ],
   "source": [
    "# illustrating slicing \n",
    "# We can access a range of items in a tuple by using the slicing operator colon :\n",
    "\n",
    "print(tup[1:5]) # 1st param is start and 2nd is end. So it prints from start index to end-1 index\n",
    "print(tup[0:]) # If we keep blank the end param it slices till end of list\n",
    "print(tup[-5:-1]) # If we apply negative indexing for slicing we need to keep in mind this condition start<end."
   ]
  },
  {
   "cell_type": "markdown",
   "metadata": {},
   "source": [
    "### Deleting different dictionary elements"
   ]
  },
  {
   "cell_type": "code",
   "execution_count": 20,
   "metadata": {},
   "outputs": [
    {
     "name": "stdout",
     "output_type": "stream",
     "text": [
      "{'A': 34, 'B': 55}\n"
     ]
    }
   ],
   "source": [
    "# I have created a function to delete elements from dictionary\n",
    "def DeleteElement(d,k):\n",
    "    if isinstance(d, dict): # if d is dictionary\n",
    "        if k in d:\n",
    "            d.pop(k) # The pop() method removes the element at the specified position.\n",
    "            print(d)\n",
    "        else:\n",
    "            print(\"Cannot find matching key\")\n",
    "    else:\n",
    "        print(\"Not able to delete(Not a dictionary)\")\n",
    "\n",
    "\n",
    "dict_1 = {'A':34, 'B':55, 'C':87}\n",
    "DeleteElement(dict_1, 'C')"
   ]
  },
  {
   "cell_type": "code",
   "execution_count": 21,
   "metadata": {},
   "outputs": [
    {
     "name": "stdout",
     "output_type": "stream",
     "text": [
      "Cannot find matching key\n"
     ]
    }
   ],
   "source": [
    "# Checking with element not found\n",
    "DeleteElement(dict_1, 'D')"
   ]
  },
  {
   "cell_type": "code",
   "execution_count": 22,
   "metadata": {},
   "outputs": [
    {
     "name": "stdout",
     "output_type": "stream",
     "text": [
      "Not able to delete(Not a dictionary)\n"
     ]
    }
   ],
   "source": [
    "# Checking with if param d is not dictionary\n",
    "l=['1','2','3']\n",
    "DeleteElement(l, 1)"
   ]
  },
  {
   "cell_type": "code",
   "execution_count": null,
   "metadata": {},
   "outputs": [],
   "source": []
  }
 ],
 "metadata": {
  "kernelspec": {
   "display_name": "Python 3",
   "language": "python",
   "name": "python3"
  },
  "language_info": {
   "codemirror_mode": {
    "name": "ipython",
    "version": 3
   },
   "file_extension": ".py",
   "mimetype": "text/x-python",
   "name": "python",
   "nbconvert_exporter": "python",
   "pygments_lexer": "ipython3",
   "version": "3.7.3"
  },
  "latex_envs": {
   "LaTeX_envs_menu_present": true,
   "autoclose": false,
   "autocomplete": true,
   "bibliofile": "biblio.bib",
   "cite_by": "apalike",
   "current_citInitial": 1,
   "eqLabelWithNumbers": true,
   "eqNumInitial": 1,
   "hotkeys": {
    "equation": "Ctrl-E",
    "itemize": "Ctrl-I"
   },
   "labels_anchors": false,
   "latex_user_defs": false,
   "report_style_numbering": false,
   "user_envs_cfg": false
  },
  "toc": {
   "base_numbering": 1,
   "nav_menu": {},
   "number_sections": true,
   "sideBar": true,
   "skip_h1_title": false,
   "title_cell": "Table of Contents",
   "title_sidebar": "Contents",
   "toc_cell": false,
   "toc_position": {},
   "toc_section_display": true,
   "toc_window_display": false
  },
  "varInspector": {
   "cols": {
    "lenName": 16,
    "lenType": 16,
    "lenVar": 40
   },
   "kernels_config": {
    "python": {
     "delete_cmd_postfix": "",
     "delete_cmd_prefix": "del ",
     "library": "var_list.py",
     "varRefreshCmd": "print(var_dic_list())"
    },
    "r": {
     "delete_cmd_postfix": ") ",
     "delete_cmd_prefix": "rm(",
     "library": "var_list.r",
     "varRefreshCmd": "cat(var_dic_list()) "
    }
   },
   "types_to_exclude": [
    "module",
    "function",
    "builtin_function_or_method",
    "instance",
    "_Feature"
   ],
   "window_display": false
  }
 },
 "nbformat": 4,
 "nbformat_minor": 4
}
